{
 "cells": [
  {
   "cell_type": "code",
   "execution_count": null,
   "metadata": {},
   "outputs": [
    {
     "name": "stdout",
     "output_type": "stream",
     "text": [
      "남은 커피: 4개, 잔액:27000\n",
      "남은 커피: 3개, 잔액:24000\n",
      "남은 커피: 2개, 잔액:21000\n",
      "남은 커피: 1개, 잔액:18000\n",
      "남은 커피: 0개, 잔액:15000\n",
      "품절\n"
     ]
    }
   ],
   "source": [
    "coffee = 5\n",
    "money = 30000\n",
    "while money :\n",
    "    coffee -= 1\n",
    "    money -= 3000\n",
    "    print(f'남은 커피: {coffee}개, 잔액:{money}')\n",
    "    if not coffee:\n",
    "        print(\"품절\")\n",
    "        break"
   ]
  },
  {
   "cell_type": "code",
   "execution_count": 3,
   "metadata": {},
   "outputs": [
    {
     "name": "stdout",
     "output_type": "stream",
     "text": [
      "1\n",
      "3\n",
      "5\n",
      "7\n",
      "9\n"
     ]
    }
   ],
   "source": [
    "a = 0\n",
    "while a < 10:\n",
    "    a += 1\n",
    "    if a % 2 == 0:\n",
    "        continue\n",
    "    print(a)"
   ]
  },
  {
   "cell_type": "code",
   "execution_count": 4,
   "metadata": {},
   "outputs": [
    {
     "name": "stdout",
     "output_type": "stream",
     "text": [
      "s\n",
      "x\n"
     ]
    }
   ],
   "source": [
    "while True:\n",
    "    s = input('내용을 입력하세요(종료하려면 x 버튼을 누르세요): ')\n",
    "    print(s)\n",
    "    if s == 'x':\n",
    "        break"
   ]
  },
  {
   "cell_type": "code",
   "execution_count": 8,
   "metadata": {},
   "outputs": [
    {
     "name": "stdout",
     "output_type": "stream",
     "text": [
      "4 x 1 = 4\n",
      "4 x 2 = 8\n",
      "4 x 3 = 12\n",
      "4 x 4 = 16\n",
      "4 x 5 = 20\n",
      "4 x 6 = 24\n",
      "4 x 7 = 28\n",
      "4 x 8 = 32\n",
      "4 x 9 = 36\n"
     ]
    }
   ],
   "source": [
    "while 1:\n",
    "    dan = int(input('단을 입력하세요(종료하려면 0을 입력하세요): '))\n",
    "    if dan == 0:\n",
    "        break\n",
    "    for n in range(1, 10):\n",
    "        print(dan, 'x', n, '=', dan*n)"
   ]
  },
  {
   "cell_type": "code",
   "execution_count": 9,
   "metadata": {},
   "outputs": [
    {
     "name": "stdout",
     "output_type": "stream",
     "text": [
      "447\n",
      "100128\n"
     ]
    }
   ],
   "source": [
    "#합계가 10만보다 커지게 되는 n을 구하기\n",
    "x = 1\n",
    "total = 0\n",
    "while 1:\n",
    "    total += x\n",
    "    if total > 100000:\n",
    "        print(x)\n",
    "        print(total)\n",
    "        break\n",
    "    x += 1"
   ]
  }
 ],
 "metadata": {
  "kernelspec": {
   "display_name": "Python 3",
   "language": "python",
   "name": "python3"
  },
  "language_info": {
   "codemirror_mode": {
    "name": "ipython",
    "version": 3
   },
   "file_extension": ".py",
   "mimetype": "text/x-python",
   "name": "python",
   "nbconvert_exporter": "python",
   "pygments_lexer": "ipython3",
   "version": "3.12.9"
  }
 },
 "nbformat": 4,
 "nbformat_minor": 2
}
