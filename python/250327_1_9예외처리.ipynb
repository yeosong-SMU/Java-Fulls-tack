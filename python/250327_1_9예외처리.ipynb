{
 "cells": [
  {
   "cell_type": "code",
   "execution_count": 1,
   "metadata": {},
   "outputs": [
    {
     "name": "stdout",
     "output_type": "stream",
     "text": [
      "시작\n",
      "2.0\n",
      "끝\n"
     ]
    }
   ],
   "source": [
    "print('시작')\n",
    "try:\n",
    "    print(10/5)\n",
    "except:\n",
    "    print('0으로 나눌 수 없습니다.')\n",
    "print('끝')"
   ]
  },
  {
   "cell_type": "code",
   "execution_count": 3,
   "metadata": {},
   "outputs": [
    {
     "name": "stdout",
     "output_type": "stream",
     "text": [
      "종료하려면 q를 입력하세요.\n",
      "프로그램을 종료합니다.\n"
     ]
    }
   ],
   "source": [
    "print('종료하려면 q를 입력하세요.')\n",
    "while True:\n",
    "    num1 = input('\\n분자: ')\n",
    "    if num1 == 'q':\n",
    "        break\n",
    "    num2 = input('분모: ')\n",
    "\n",
    "    try:\n",
    "        result = int(num1) / int(num2)\n",
    "    except ZeroDivisionError:\n",
    "        print('분모에 0이 올 수 없습니다.')\n",
    "    else:\n",
    "        print(result)\n",
    "\n",
    "print('프로그램을 종료합니다.')"
   ]
  },
  {
   "cell_type": "code",
   "execution_count": null,
   "metadata": {},
   "outputs": [],
   "source": [
    "try:\n",
    "    f = open('c:/python/temp/test.txt', 'r')\n",
    "except FileNotFoundError as e:\n",
    "    print(e)"
   ]
  }
 ],
 "metadata": {
  "kernelspec": {
   "display_name": "Python 3",
   "language": "python",
   "name": "python3"
  },
  "language_info": {
   "codemirror_mode": {
    "name": "ipython",
    "version": 3
   },
   "file_extension": ".py",
   "mimetype": "text/x-python",
   "name": "python",
   "nbconvert_exporter": "python",
   "pygments_lexer": "ipython3",
   "version": "3.12.9"
  }
 },
 "nbformat": 4,
 "nbformat_minor": 2
}
