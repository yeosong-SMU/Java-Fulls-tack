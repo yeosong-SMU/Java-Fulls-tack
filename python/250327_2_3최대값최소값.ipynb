{
 "cells": [
  {
   "cell_type": "code",
   "execution_count": 1,
   "metadata": {},
   "outputs": [
    {
     "name": "stdout",
     "output_type": "stream",
     "text": [
      "90\n",
      "-20\n",
      "5\n",
      "6\n",
      "[-20, 10, 20, 30, 40, 70, 90]\n"
     ]
    }
   ],
   "source": [
    "import numpy as np\n",
    "a = [10, 20, 30, 40, 70, 90, -20]\n",
    "print(max(a))\n",
    "print(min(a))\n",
    "print(np.argmax(a))\n",
    "print(np.argmin(a))\n",
    "a.sort()\n",
    "print(a)"
   ]
  },
  {
   "cell_type": "code",
   "execution_count": 2,
   "metadata": {},
   "outputs": [
    {
     "name": "stdout",
     "output_type": "stream",
     "text": [
      "92\n"
     ]
    }
   ],
   "source": [
    "def find_max(a):\n",
    "    n = len(a)\n",
    "    max_v = a[0]\n",
    "    for i in range(1, n):\n",
    "        if a[i] > max_v:\n",
    "            max_v = a[i]\n",
    "    return max_v\n",
    "\n",
    "v = [17, 92, 18, 33, 58, 7, 33, 42]\n",
    "print(find_max(v))"
   ]
  },
  {
   "cell_type": "code",
   "execution_count": 4,
   "metadata": {},
   "outputs": [
    {
     "name": "stdout",
     "output_type": "stream",
     "text": [
      "1\n"
     ]
    }
   ],
   "source": [
    "# 최대값의 위치 구하기\n",
    "def find_max_idx(a):\n",
    "    n = len(a)\n",
    "    max_idx = 0\n",
    "    for i in range(1, n):\n",
    "        if a[i] > a[max_idx]:\n",
    "            max_idx = i\n",
    "    return max_idx\n",
    "\n",
    "v = [17, 92, 18, 33, 58, 7, 33, 42]\n",
    "print(find_max_idx(v))"
   ]
  },
  {
   "cell_type": "code",
   "execution_count": 5,
   "metadata": {},
   "outputs": [
    {
     "name": "stdout",
     "output_type": "stream",
     "text": [
      "7\n"
     ]
    }
   ],
   "source": [
    "# 최소값 구하기\n",
    "def find_min(a):\n",
    "    n = len(a)\n",
    "    min_v = a[0]\n",
    "    for i in range(1, n):\n",
    "        if a[i] < min_v:\n",
    "            min_v = a[i]\n",
    "    return min_v\n",
    "\n",
    "v = [17, 92, 18, 33, 58, 7, 33, 42]\n",
    "print(find_min(v))"
   ]
  }
 ],
 "metadata": {
  "kernelspec": {
   "display_name": "Python 3",
   "language": "python",
   "name": "python3"
  },
  "language_info": {
   "codemirror_mode": {
    "name": "ipython",
    "version": 3
   },
   "file_extension": ".py",
   "mimetype": "text/x-python",
   "name": "python",
   "nbconvert_exporter": "python",
   "pygments_lexer": "ipython3",
   "version": "3.12.9"
  }
 },
 "nbformat": 4,
 "nbformat_minor": 2
}
