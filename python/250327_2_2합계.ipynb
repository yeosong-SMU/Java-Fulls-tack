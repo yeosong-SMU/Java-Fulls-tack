{
 "cells": [
  {
   "cell_type": "code",
   "execution_count": 1,
   "metadata": {},
   "outputs": [
    {
     "data": {
      "text/plain": [
       "15"
      ]
     },
     "execution_count": 1,
     "metadata": {},
     "output_type": "execute_result"
    }
   ],
   "source": [
    "sum([1, 2, 3, 4, 5])"
   ]
  },
  {
   "cell_type": "code",
   "execution_count": 2,
   "metadata": {},
   "outputs": [
    {
     "name": "stdout",
     "output_type": "stream",
     "text": [
      "55\n",
      "5050\n",
      "5000000050000000\n"
     ]
    }
   ],
   "source": [
    "def mysum(n):\n",
    "    s = 0\n",
    "    for i in range(1, n+1):\n",
    "        s = s + i\n",
    "    return s\n",
    "\n",
    "print(mysum(10))\n",
    "print(mysum(100))\n",
    "print(mysum(100000000))"
   ]
  },
  {
   "cell_type": "code",
   "execution_count": 3,
   "metadata": {},
   "outputs": [
    {
     "name": "stdout",
     "output_type": "stream",
     "text": [
      "55\n",
      "5050\n",
      "5000000050000000\n"
     ]
    }
   ],
   "source": [
    "def sum_n(n):\n",
    "    return n * (n + 1) // 2\n",
    "\n",
    "print(sum_n(10))\n",
    "print(sum_n(100))\n",
    "print(sum_n(100000000))"
   ]
  },
  {
   "cell_type": "code",
   "execution_count": 6,
   "metadata": {},
   "outputs": [
    {
     "name": "stdout",
     "output_type": "stream",
     "text": [
      "385\n",
      "338350\n",
      "333333833333500000\n"
     ]
    }
   ],
   "source": [
    "# 연속한 숫자 제곱의 합을 구하는 문제\n",
    "def sum_sq1(n):\n",
    "    s = 0\n",
    "    for i in range(1, n+1):\n",
    "        s += i * i\n",
    "    return s\n",
    "\n",
    "print(sum_sq1(10))\n",
    "print(sum_sq1(100))\n",
    "print(sum_sq1(1000000))"
   ]
  },
  {
   "cell_type": "code",
   "execution_count": 5,
   "metadata": {},
   "outputs": [
    {
     "name": "stdout",
     "output_type": "stream",
     "text": [
      "385\n",
      "338350\n"
     ]
    }
   ],
   "source": [
    "def sum_sq2(n):\n",
    "    return n * (n + 1) * (2 * n + 1) // 6\n",
    "\n",
    "print(sum_sq2(10))\n",
    "print(sum_sq2(100))"
   ]
  }
 ],
 "metadata": {
  "kernelspec": {
   "display_name": "Python 3",
   "language": "python",
   "name": "python3"
  },
  "language_info": {
   "codemirror_mode": {
    "name": "ipython",
    "version": 3
   },
   "file_extension": ".py",
   "mimetype": "text/x-python",
   "name": "python",
   "nbconvert_exporter": "python",
   "pygments_lexer": "ipython3",
   "version": "3.13.2"
  }
 },
 "nbformat": 4,
 "nbformat_minor": 2
}
