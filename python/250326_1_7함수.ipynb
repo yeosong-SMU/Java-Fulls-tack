{
 "cells": [
  {
   "cell_type": "code",
   "execution_count": 1,
   "metadata": {},
   "outputs": [
    {
     "name": "stdout",
     "output_type": "stream",
     "text": [
      "Hi\n"
     ]
    }
   ],
   "source": [
    "def say():\n",
    "    print('Hi')\n",
    "\n",
    "say()   #call"
   ]
  },
  {
   "cell_type": "code",
   "execution_count": null,
   "metadata": {},
   "outputs": [
    {
     "name": "stdout",
     "output_type": "stream",
     "text": [
      "Hello, kim\n",
      "Hello, park\n",
      "Hello, song\n"
     ]
    },
    {
     "data": {
      "text/plain": [
       "100"
      ]
     },
     "execution_count": 4,
     "metadata": {},
     "output_type": "execute_result"
    }
   ],
   "source": [
    "\n",
    "# def hello(name):\n",
    "#     print('Hello,', name)\n",
    "#     return 100\n",
    "\n",
    "# hello('kim')\n",
    "# hello('park')\n",
    "# hello('song')"
   ]
  },
  {
   "cell_type": "code",
   "execution_count": 14,
   "metadata": {},
   "outputs": [
    {
     "name": "stdout",
     "output_type": "stream",
     "text": [
      "Hello, 김철수\n",
      "Hello, 김철수\n",
      "None\n"
     ]
    }
   ],
   "source": [
    "def hello(name) :\n",
    "          #'김철수'\n",
    "    print('Hello,', name)\n",
    "    #리턴값 없음\n",
    "\n",
    "hello('김철수')\n",
    "print(hello('김철수'))"
   ]
  },
  {
   "cell_type": "code",
   "execution_count": 5,
   "metadata": {},
   "outputs": [
    {
     "name": "stdout",
     "output_type": "stream",
     "text": [
      "Hello, kim\n",
      "100\n",
      "<class 'NoneType'>\n"
     ]
    }
   ],
   "source": [
    "a = hello('kim')\n",
    "print(a)\n",
    "\n",
    "print(type(None))"
   ]
  },
  {
   "cell_type": "code",
   "execution_count": 10,
   "metadata": {},
   "outputs": [
    {
     "name": "stdout",
     "output_type": "stream",
     "text": [
      "답: 45\n"
     ]
    }
   ],
   "source": [
    "n = int(input('숫자를 입력하세요: '))\n",
    "result = 0\n",
    "\n",
    "for i in range(1, n+1) :\n",
    "    result += i\n",
    "\n",
    "print('답:', result)"
   ]
  },
  {
   "cell_type": "code",
   "execution_count": 11,
   "metadata": {},
   "outputs": [
    {
     "data": {
      "text/plain": [
       "5050"
      ]
     },
     "execution_count": 11,
     "metadata": {},
     "output_type": "execute_result"
    }
   ],
   "source": [
    "def mysum(n):\n",
    "    result = 0\n",
    "    for i in range(1, n+1) :\n",
    "        result += i\n",
    "    return result\n",
    "\n",
    "mysum(100)"
   ]
  },
  {
   "cell_type": "code",
   "execution_count": 12,
   "metadata": {},
   "outputs": [
    {
     "data": {
      "text/plain": [
       "10"
      ]
     },
     "execution_count": 12,
     "metadata": {},
     "output_type": "execute_result"
    }
   ],
   "source": [
    "a = -10\n",
    "result = 0\n",
    "\n",
    "if a >= 0:\n",
    "    result = a\n",
    "else:\n",
    "    result = -a\n",
    "\n",
    "result"
   ]
  },
  {
   "cell_type": "code",
   "execution_count": 13,
   "metadata": {},
   "outputs": [
    {
     "name": "stdout",
     "output_type": "stream",
     "text": [
      "10\n",
      "10\n"
     ]
    }
   ],
   "source": [
    "def myabs(n):\n",
    "    if n >= 0 :\n",
    "        return n\n",
    "    else :\n",
    "        return -n\n",
    "\n",
    "print(myabs(10))\n",
    "print(myabs(-10))"
   ]
  },
  {
   "cell_type": "code",
   "execution_count": 15,
   "metadata": {},
   "outputs": [
    {
     "name": "stdout",
     "output_type": "stream",
     "text": [
      "1683\n"
     ]
    }
   ],
   "source": [
    "n = 100\n",
    "a = 3\n",
    "result = 0\n",
    "for i in range(1, n+1) :\n",
    "    if i % a == 0 :\n",
    "        result += i\n",
    "\n",
    "print(result)"
   ]
  },
  {
   "cell_type": "code",
   "execution_count": 16,
   "metadata": {},
   "outputs": [
    {
     "name": "stdout",
     "output_type": "stream",
     "text": [
      "1683\n",
      "1050\n",
      "735\n"
     ]
    }
   ],
   "source": [
    "def mysum(n, a) :\n",
    "    result = 0\n",
    "    for i in range(1, n+1) :\n",
    "        if i % a == 0 :\n",
    "            result += i\n",
    "    return result\n",
    "\n",
    "print(mysum(100, 3))\n",
    "print(mysum(100, 5))\n",
    "print(mysum(100, 7))"
   ]
  },
  {
   "cell_type": "code",
   "execution_count": 17,
   "metadata": {},
   "outputs": [
    {
     "name": "stdout",
     "output_type": "stream",
     "text": [
      "hi good morning\n"
     ]
    }
   ],
   "source": [
    "def hello(a, b, c) :\n",
    "    print(a, b, c)\n",
    "\n",
    "hello('hi', 'good', 'morning')"
   ]
  }
 ],
 "metadata": {
  "kernelspec": {
   "display_name": "Python 3",
   "language": "python",
   "name": "python3"
  },
  "language_info": {
   "codemirror_mode": {
    "name": "ipython",
    "version": 3
   },
   "file_extension": ".py",
   "mimetype": "text/x-python",
   "name": "python",
   "nbconvert_exporter": "python",
   "pygments_lexer": "ipython3",
   "version": "3.12.9"
  }
 },
 "nbformat": 4,
 "nbformat_minor": 2
}
