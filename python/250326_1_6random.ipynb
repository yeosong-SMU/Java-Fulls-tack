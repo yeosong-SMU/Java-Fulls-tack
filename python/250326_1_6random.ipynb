{
 "cells": [
  {
   "cell_type": "code",
   "execution_count": 87,
   "metadata": {},
   "outputs": [
    {
     "name": "stdout",
     "output_type": "stream",
     "text": [
      "0.30310157058180365\n",
      "0.609650941570529\n",
      "0.09129624864659136\n",
      "0.5441051132445499\n",
      "0.06714622151413041\n",
      "1\n",
      "9\n",
      "2\n",
      "6\n",
      "5\n",
      "99.44581704575114\n",
      "17.130268461235474\n",
      "62.066040747173666\n",
      "94.93407303849487\n",
      "64.82809410917729\n"
     ]
    }
   ],
   "source": [
    "import random\n",
    "#random.seed(679)\n",
    "\n",
    "#실수 난수\n",
    "for i in range(5):\n",
    "    print(random.random())\n",
    "\n",
    "#정수 난수\n",
    "for i in range(5):\n",
    "    print(random.randint(1, 10)) #1~10\n",
    "\n",
    "#1~100 사이의 실수 난수\n",
    "for i in range (5):\n",
    "    print(random.uniform(1, 100))"
   ]
  },
  {
   "cell_type": "code",
   "execution_count": 5,
   "metadata": {},
   "outputs": [
    {
     "data": {
      "text/plain": [
       "{10, 20, 30}"
      ]
     },
     "execution_count": 5,
     "metadata": {},
     "output_type": "execute_result"
    }
   ],
   "source": [
    "a = set()\n",
    "a.add(10)\n",
    "a.add(20)\n",
    "a.add(30)\n",
    "a.add(30) #중복값 제거\n",
    "a"
   ]
  },
  {
   "cell_type": "code",
   "execution_count": 100,
   "metadata": {},
   "outputs": [
    {
     "name": "stdout",
     "output_type": "stream",
     "text": [
      "10\n",
      "5\n",
      "10\n",
      "4\n",
      "8\n",
      "1\n"
     ]
    },
    {
     "data": {
      "text/plain": [
       "{1, 4, 5, 8, 10}"
      ]
     },
     "execution_count": 100,
     "metadata": {},
     "output_type": "execute_result"
    }
   ],
   "source": [
    "#정수 난수 5개 생성(중복값 제거)\n",
    "myset = set() #집합\n",
    "while True:\n",
    "    a = random.randint(1, 10)\n",
    "    print(a)\n",
    "    myset.add(a)\n",
    "    if len(myset) == 5: #개수가 5이면\n",
    "        break\n",
    "\n",
    "myset"
   ]
  },
  {
   "cell_type": "code",
   "execution_count": 19,
   "metadata": {},
   "outputs": [
    {
     "name": "stdout",
     "output_type": "stream",
     "text": [
      "군만두\n"
     ]
    }
   ],
   "source": [
    "# 리스트에서 임의의 요소를 하나 골라서 리턴\n",
    "food = [\"짜장면\", \"짬뽕\", \"탕수육\", \"군만두\"]\n",
    "f = random.choice(food)\n",
    "\n",
    "print(f)"
   ]
  },
  {
   "cell_type": "code",
   "execution_count": 50,
   "metadata": {},
   "outputs": [
    {
     "name": "stdout",
     "output_type": "stream",
     "text": [
      "['짜장면', '짬뽕', '탕수육', '군만두']\n",
      "['짬뽕', '군만두', '짜장면', '탕수육']\n"
     ]
    }
   ],
   "source": [
    "# 무작위로 섞음\n",
    "food = [\"짜장면\", \"짬뽕\", \"탕수육\", \"군만두\"]\n",
    "print(food)\n",
    "random.shuffle(food)\n",
    "print(food)"
   ]
  },
  {
   "cell_type": "code",
   "execution_count": 54,
   "metadata": {},
   "outputs": [
    {
     "name": "stdout",
     "output_type": "stream",
     "text": [
      "['군만두', '짜장면']\n"
     ]
    }
   ],
   "source": [
    "# 4개 중에서 2개를 무작위로 샘플링\n",
    "food = [\"짜장면\", \"짬뽕\", \"탕수육\", \"군만두\"]\n",
    "print(random.sample(food, 2))"
   ]
  },
  {
   "cell_type": "code",
   "execution_count": 110,
   "metadata": {},
   "outputs": [
    {
     "name": "stdout",
     "output_type": "stream",
     "text": [
      "틀렸습니다.\n"
     ]
    }
   ],
   "source": [
    "a = random.randint(1, 9)\n",
    "b = random.randint(1, 9)\n",
    "question = \"%d + %d = ? \" % (a, b)\n",
    "c = int(input(question))\n",
    "\n",
    "if c == a + b :\n",
    "    print(\"정답입니다.\")\n",
    "else :\n",
    "    print(\"틀렸습니다.\")\n"
   ]
  },
  {
   "cell_type": "code",
   "execution_count": 104,
   "metadata": {},
   "outputs": [
    {
     "name": "stdout",
     "output_type": "stream",
     "text": [
      "0 10\n",
      "1 20\n",
      "2 30\n",
      "3 40\n",
      "4 50\n"
     ]
    }
   ],
   "source": [
    "# enumerate() 순서가 있는 자료형(리스트, 튜플, 문자열)을 입력받아\n",
    "# 인덱스 값을 포함하는 enumerate 객체를 리턴\n",
    "for i, num in enumerate([10, 20, 30, 40, 50]) :\n",
    "    print(i, num)"
   ]
  },
  {
   "cell_type": "code",
   "execution_count": 112,
   "metadata": {},
   "outputs": [
    {
     "name": "stdout",
     "output_type": "stream",
     "text": [
      "3\n",
      "(3, 0)\n"
     ]
    }
   ],
   "source": [
    "# eval(expression) : 실행가능한 문자열을 입력받아 문자열을 실행한 결과값을 리턴\n",
    "print(eval('1+2'))\n",
    "print(eval('divmod(9, 3)'))\n"
   ]
  },
  {
   "cell_type": "code",
   "execution_count": 115,
   "metadata": {},
   "outputs": [
    {
     "data": {
      "text/plain": [
       "1"
      ]
     },
     "execution_count": 115,
     "metadata": {},
     "output_type": "execute_result"
    }
   ],
   "source": [
    "4//3"
   ]
  },
  {
   "cell_type": "code",
   "execution_count": 111,
   "metadata": {},
   "outputs": [
    {
     "name": "stdout",
     "output_type": "stream",
     "text": [
      "0xea\n",
      "0x3\n"
     ]
    }
   ],
   "source": [
    "# hex(x)  : 정수값을 입력받아 16진수(hexadecimal)로 변환하여 리턴\n",
    "print(hex(234))\n",
    "print(hex(3))"
   ]
  }
 ],
 "metadata": {
  "kernelspec": {
   "display_name": "Python 3",
   "language": "python",
   "name": "python3"
  },
  "language_info": {
   "codemirror_mode": {
    "name": "ipython",
    "version": 3
   },
   "file_extension": ".py",
   "mimetype": "text/x-python",
   "name": "python",
   "nbconvert_exporter": "python",
   "pygments_lexer": "ipython3",
   "version": "3.12.9"
  }
 },
 "nbformat": 4,
 "nbformat_minor": 2
}
