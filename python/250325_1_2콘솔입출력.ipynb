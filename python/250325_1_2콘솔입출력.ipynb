{
 "cells": [
  {
   "cell_type": "code",
   "execution_count": 3,
   "metadata": {},
   "outputs": [
    {
     "name": "stdout",
     "output_type": "stream",
     "text": [
      "10\n"
     ]
    }
   ],
   "source": [
    "a = 10\n",
    "print(a)"
   ]
  },
  {
   "cell_type": "code",
   "execution_count": 4,
   "metadata": {},
   "outputs": [
    {
     "name": "stdout",
     "output_type": "stream",
     "text": [
      "hello\n"
     ]
    }
   ],
   "source": [
    "a = \"hello\"\n",
    "print(a)"
   ]
  },
  {
   "cell_type": "code",
   "execution_count": 2,
   "metadata": {},
   "outputs": [
    {
     "name": "stdout",
     "output_type": "stream",
     "text": [
      "결과: hello world\n"
     ]
    }
   ],
   "source": [
    "a = input(\"입력하세요:\")\n",
    "print(\"결과:\", a)"
   ]
  },
  {
   "cell_type": "code",
   "execution_count": 8,
   "metadata": {},
   "outputs": [
    {
     "name": "stdout",
     "output_type": "stream",
     "text": [
      "<class 'str'>\n",
      "<class 'int'>\n"
     ]
    }
   ],
   "source": [
    "dan = input(\"단을 입력하세요:\")\n",
    "print(type(dan))\n",
    "dan = int(input(\"단을 입력하세요:\"))\n",
    "print(type(dan))"
   ]
  },
  {
   "cell_type": "code",
   "execution_count": 9,
   "metadata": {},
   "outputs": [
    {
     "name": "stdout",
     "output_type": "stream",
     "text": [
      "2 x 1 = 2\n",
      "2 x 2 = 4\n",
      "2 x 3 = 6\n",
      "2 x 4 = 8\n",
      "2 x 5 = 10\n",
      "2 x 6 = 12\n",
      "2 x 7 = 14\n",
      "2 x 8 = 16\n",
      "2 x 9 = 18\n"
     ]
    }
   ],
   "source": [
    "dan = int(input(\"단을 입력하세요:\"))\n",
    "\n",
    "for i in range(1, 10):\n",
    "    print(dan, 'x', i, '=', dan*i)\n"
   ]
  },
  {
   "cell_type": "code",
   "execution_count": 11,
   "metadata": {},
   "outputs": [
    {
     "data": {
      "text/plain": [
       "'333'"
      ]
     },
     "execution_count": 11,
     "metadata": {},
     "output_type": "execute_result"
    }
   ],
   "source": [
    "a = '3'\n",
    "a*3"
   ]
  },
  {
   "cell_type": "code",
   "execution_count": 12,
   "metadata": {},
   "outputs": [
    {
     "data": {
      "text/plain": [
       "9"
      ]
     },
     "execution_count": 12,
     "metadata": {},
     "output_type": "execute_result"
    }
   ],
   "source": [
    "a = 3\n",
    "a*3"
   ]
  },
  {
   "cell_type": "code",
   "execution_count": 13,
   "metadata": {},
   "outputs": [
    {
     "name": "stdout",
     "output_type": "stream",
     "text": [
      "10\n"
     ]
    }
   ],
   "source": [
    "print(10)"
   ]
  },
  {
   "cell_type": "code",
   "execution_count": 14,
   "metadata": {},
   "outputs": [
    {
     "name": "stdout",
     "output_type": "stream",
     "text": [
      "print(10)\n",
      "10\n"
     ]
    }
   ],
   "source": [
    "a = 'print(10)'\n",
    "print(a)\n",
    "eval(a)"
   ]
  },
  {
   "cell_type": "code",
   "execution_count": 10,
   "metadata": {},
   "outputs": [
    {
     "name": "stdout",
     "output_type": "stream",
     "text": [
      "10진수 : 10, 16진수(소문자) : a, 16진수(대문자) : A, 8진수 : 12, 2진수 : 1010\n",
      "10진수 : 10, 16진수(소문자) : 0xa, 16진수(대문자) : 0XA, 8진수 : 0o12, 2진수 : 0b1010\n"
     ]
    }
   ],
   "source": [
    "num = 10\n",
    "a = '10진수 : {0:d}, 16진수(소문자) : {0:x}, 16진수(대문자) : {0:X}, 8진수 : {0:o}, 2진수 : {0:b}'.format(num)\n",
    "print(a)\n",
    "# 샵을 붙이면 접두사가 추가됨\n",
    "a = '10진수 : {0:d}, 16진수(소문자) : {0:#x}, 16진수(대문자) : {0:#X}, 8진수 : {0:#o}, 2진수 : {0:#b}'.format(num)\n",
    "print(a)"
   ]
  },
  {
   "cell_type": "code",
   "execution_count": 15,
   "metadata": {},
   "outputs": [
    {
     "name": "stdout",
     "output_type": "stream",
     "text": [
      "1,234,567,890\n",
      "1,234,567,890\n",
      "98%\n",
      "98.15%\n"
     ]
    }
   ],
   "source": [
    "#천단위 컴머\n",
    "num = 1234567890\n",
    "print('{0:,}'.format(num))\n",
    "print(f'{num:,}')\n",
    "\n",
    "#백분율\n",
    "num = 0.9815\n",
    "print(f'{num:.0%}')\n",
    "print(f'{num:.2%}')"
   ]
  }
 ],
 "metadata": {
  "kernelspec": {
   "display_name": "Python 3",
   "language": "python",
   "name": "python3"
  },
  "language_info": {
   "codemirror_mode": {
    "name": "ipython",
    "version": 3
   },
   "file_extension": ".py",
   "mimetype": "text/x-python",
   "name": "python",
   "nbconvert_exporter": "python",
   "pygments_lexer": "ipython3",
   "version": "3.12.9"
  }
 },
 "nbformat": 4,
 "nbformat_minor": 2
}
