{
 "cells": [
  {
   "cell_type": "code",
   "execution_count": 1,
   "metadata": {},
   "outputs": [
    {
     "name": "stdout",
     "output_type": "stream",
     "text": [
      "5\n",
      "3\n",
      "\n",
      "5.0\n",
      "3.0\n"
     ]
    }
   ],
   "source": [
    "import math\n",
    "def abs_sign(a):\n",
    "    if a >= 0:\n",
    "        return a\n",
    "    else:\n",
    "        return -a\n",
    "\n",
    "def abs_square(a):\n",
    "    b = a*a\n",
    "    return math.sqrt(b)\n",
    "\n",
    "print(abs_sign(5))\n",
    "print(abs_sign(-3))\n",
    "print()\n",
    "print(abs_square(5))\n",
    "print(abs_square(-3))"
   ]
  }
 ],
 "metadata": {
  "kernelspec": {
   "display_name": "Python 3",
   "language": "python",
   "name": "python3"
  },
  "language_info": {
   "codemirror_mode": {
    "name": "ipython",
    "version": 3
   },
   "file_extension": ".py",
   "mimetype": "text/x-python",
   "name": "python",
   "nbconvert_exporter": "python",
   "pygments_lexer": "ipython3",
   "version": "3.12.9"
  }
 },
 "nbformat": 4,
 "nbformat_minor": 2
}
